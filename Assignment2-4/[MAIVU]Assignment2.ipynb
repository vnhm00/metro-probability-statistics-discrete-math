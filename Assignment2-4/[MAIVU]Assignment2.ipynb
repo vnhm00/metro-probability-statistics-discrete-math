{
 "cells": [
  {
   "cell_type": "markdown",
   "metadata": {},
   "source": [
    "# Assignment 2\n",
    "Probability, Statistics, and Discrete Mathematics<br>\n",
    "18.11.2019<br>\n",
    "Mai Vu<br>\n",
    "[Helsinki Metropolia University of Applied Sciences](https://www.metropolia.fi/en)"
   ]
  },
  {
   "cell_type": "code",
   "execution_count": 1,
   "metadata": {},
   "outputs": [
    {
     "name": "stdout",
     "output_type": "stream",
     "text": [
      "Populating the interactive namespace from numpy and matplotlib\n"
     ]
    }
   ],
   "source": [
    "%pylab inline\n",
    "import numpy as np\n",
    "import matplotlib.pyplot as plot\n",
    "\n",
    "#numpy 1.17\n",
    "#rng = numpy.random.default_rng()\n",
    "\n",
    "#numpy 1.16\n",
    "#import numpy.random as rnd"
   ]
  },
  {
   "cell_type": "markdown",
   "metadata": {},
   "source": [
    "## Problem 1\n",
    "Create an array of 10,000 random integer numbers in range from 1 to 20 and make a histogram plot of the distribution. Pay special attention for selecting proper bins for the histogram."
   ]
  },
  {
   "cell_type": "code",
   "execution_count": 2,
   "metadata": {},
   "outputs": [
    {
     "name": "stdout",
     "output_type": "stream",
     "text": [
      "a =  [12  3  3 ...  6  7  5]\n"
     ]
    },
    {
     "data": {
      "image/png": "[encoded data removed]",
      "text/plain": [
       "<Figure size 432x288 with 1 Axes>"
      ]
     },
     "metadata": {
      "needs_background": "light"
     },
     "output_type": "display_data"
    }
   ],
   "source": [
    "#Generate and print an array of 10000 random integers in range from 1 to 20\n",
    "min = 1\n",
    "max = 20\n",
    "n = 10000\n",
    "a = np.random.randint(min, max + 1, n) \n",
    "print(\"a = \", a)\n",
    "\n",
    "#Generate a histogram plot of the distribution\n",
    "plot.figure()\n",
    "plot.hist(a, bins = np.arange(min, max + 2, 1), edgecolor='k', align='left')\n",
    "plt.title('Histogram plot of the distribution')\n",
    "plot.xlabel('Value')\n",
    "plot.ylabel('Frequency')\n",
    "plot.xticks(range(0, np.amax(a) + 1))\n",
    "plot.show()"
   ]
  },
  {
   "cell_type": "markdown",
   "metadata": {},
   "source": [
    "## Problem 2\n",
    "Create an array of 10,000 [normally distributed](https://en.wikipedia.org/wiki/Normal_distribution) random numbers having a mean value of 10.0 and standard deviation of 2.50.\n",
    "\n",
    "- Observe and write down your comments how this distribution differs from the distribution in problem 1. Explain why.\n",
    "- Write a code that calculates the mean value and the standard deviation from the array and prints them out. \n",
    "- Compare the calculated values to the given values. Observe how much do the calculated values differ from the given values and try to explain the amount of the difference."
   ]
  },
  {
   "cell_type": "code",
   "execution_count": 3,
   "metadata": {},
   "outputs": [
    {
     "name": "stdout",
     "output_type": "stream",
     "text": [
      "a =  [ 5.98929398  9.751635   12.5437631  ... 12.46410582  9.83197531\n",
      "  7.83979982]\n"
     ]
    },
    {
     "data": {
      "image/png": "[encoded data removed]",
      "text/plain": [
       "<Figure size 432x288 with 1 Axes>"
      ]
     },
     "metadata": {
      "needs_background": "light"
     },
     "output_type": "display_data"
    }
   ],
   "source": [
    "#Generate and print an array of 10000 normally distributed random numbers having a mean value of 10.0 and sd of 2.50\n",
    "mean = 10.0\n",
    "sd = 2.50\n",
    "n = 10000\n",
    "a = np.random.normal(mean, sd, 10000) \n",
    "print(\"a = \", a)\n",
    "\n",
    "#Generate a histogram plot of the distribution\n",
    "plot.figure()\n",
    "plot.hist(a, bins = 'auto', edgecolor='k')\n",
    "plt.title('Histogram plot of the distribution')\n",
    "plot.xlabel('Value')\n",
    "plot.ylabel('Frequency')\n",
    "plot.xticks(range(0, int(round(np.amax(a)) + 1)))\n",
    "plot.show()"
   ]
  },
  {
   "cell_type": "markdown",
   "metadata": {},
   "source": [
    "On the first problem, each number in the array is equally likely to be selected. Therefore, the bars in the histogram plot have almost the same length. While on the second problem, numbers that are close to the mean are more likely to be picked compared to those laid far away from it."
   ]
  },
  {
   "cell_type": "code",
   "execution_count": 4,
   "metadata": {},
   "outputs": [
    {
     "name": "stdout",
     "output_type": "stream",
     "text": [
      "Calculated mean =  9.980730055730367\n",
      "Calculated standard deviation =  2.4913213116690276\n",
      "The difference between the calculated mean and the given mean =  0.01926994426963269\n",
      "The difference between the calculated standard deviation and the given standard deviation =  0.008678688330972406\n"
     ]
    }
   ],
   "source": [
    "#Calculate and print the mean value and the standard deviation from the array\n",
    "calmean = np.mean(a, dtype=np.float64)\n",
    "calsd = np.std(a, dtype=np.float64)\n",
    "print('Calculated mean = ', calmean)\n",
    "print('Calculated standard deviation = ', calsd)\n",
    "print('The difference between the calculated mean and the given mean = ', abs(mean - calmean))\n",
    "print('The difference between the calculated standard deviation and the given standard deviation = ', abs(sd - calsd))\n",
    "\n",
    "#print(round(calmean))\n",
    "#print(round(calsd,1))"
   ]
  },
  {
   "cell_type": "markdown",
   "metadata": {},
   "source": [
    "○ The calculated values are approximately equal to the given values, less than 0.05 difference.<br>\n",
    "○ About the reason, I guess it is because of the random numbers are floats. So the calculated values are approximately equal, not the same. If for example, we use round(calmean) and round(calsd,1) then it would print the given values."
   ]
  },
  {
   "cell_type": "markdown",
   "metadata": {},
   "source": [
    "## Problem 3\n",
    "\n",
    "Create an array of 10,000 [exponentially distributed](https://en.wikipedia.org/wiki/Exponential_distribution) random numbers having the parameter value $\\lambda = 0.5$\n",
    "\n",
    "- Write a code that calculate the mean value and the standard deviation from the array and prints them out.\n",
    "- Compare the calculated mean and standard deviation values to the given values. Observe how much do the calculated values differ from the given values and explain the amount of the difference."
   ]
  },
  {
   "cell_type": "code",
   "execution_count": 5,
   "metadata": {},
   "outputs": [
    {
     "name": "stdout",
     "output_type": "stream",
     "text": [
      "a =  [1.34805501 2.82199412 1.14094496 ... 0.46972382 2.48733605 1.23569866]\n"
     ]
    },
    {
     "data": {
      "image/png": "[encoded data removed]",
      "text/plain": [
       "<Figure size 432x288 with 1 Axes>"
      ]
     },
     "metadata": {
      "needs_background": "light"
     },
     "output_type": "display_data"
    }
   ],
   "source": [
    "#Generate and print an array of 10000 exponentially distributed random numbers having the parameter value 𝜆 = 0.5\n",
    "lamb = 0.5\n",
    "theta = 1 / lamb \n",
    "n = 10000\n",
    "a = np.random.exponential(theta, 10000) \n",
    "print(\"a = \", a)\n",
    "\n",
    "#Generate a histogram plot of the distribution\n",
    "plot.figure()\n",
    "plot.hist(a, bins = 'auto', edgecolor='k')\n",
    "plt.title('Histogram plot of the distribution')\n",
    "plot.xlabel('Value')\n",
    "plot.ylabel('Frequency')\n",
    "plot.xticks(range(0, int(round(np.amax(a)) + 1)))\n",
    "plot.show()"
   ]
  },
  {
   "cell_type": "code",
   "execution_count": 6,
   "metadata": {},
   "outputs": [
    {
     "name": "stdout",
     "output_type": "stream",
     "text": [
      "theta =  2.0\n",
      "Calculated mean =  2.0210797123812876\n",
      "Calculated standard deviation =  1.993767403757962\n",
      "The difference between the calculated mean and theta (theta = 1 / 𝜆) =  0.021079712381287585\n",
      "The difference between the calculated standard deviation and theta (theta = 1 / 𝜆) =  0.00623259624203798\n"
     ]
    }
   ],
   "source": [
    "#Calculate and print the mean value and the standard deviation from the array\n",
    "calmean = np.mean(a, dtype=np.float64)\n",
    "calsd = np.std(a, dtype=np.float64)\n",
    "print('theta = ', theta)\n",
    "print('Calculated mean = ', calmean)\n",
    "print('Calculated standard deviation = ', calsd)\n",
    "print('The difference between the calculated mean and theta (theta = 1 / 𝜆) = ', abs(theta - calmean))\n",
    "print('The difference between the calculated standard deviation and theta (theta = 1 / 𝜆) = ', abs(theta - calsd))\n",
    "\n",
    "#print(round(calmean))\n",
    "#print(round(calsd))"
   ]
  },
  {
   "cell_type": "markdown",
   "metadata": {},
   "source": [
    "○ The calculated values are approximately equal to the theta, less than 0.1 difference.<br>\n",
    "○ The reason is the same as the above problem. If for example, we use round(calmean) and round(calsd) then it would print the values that equal to theta."
   ]
  },
  {
   "cell_type": "markdown",
   "metadata": {},
   "source": [
    "## Problem 4\n",
    "We want to simulate a random experiment where we [throw a bunch of coins](https://en.wikipedia.org/wiki/Coin_flipping) on the table and then count how many of them are faced 'heads' up, e.g. the probability of $P(x)$, where $x$ is the number of heads $x \\in \\left\\{0, 1, 2, 3, ..., N\\right\\}$, and $N$ is how many coins we had in our hands.\n",
    "\n",
    "Write a code that uses a random number generator and counts the number of heads when we throw 100 coins on the table.\n",
    "\n",
    "Write a loop around the counting, repeat the experiment 10,000 times and store the number of heads of each throwing in the array $R$. Lastly, plot the histogram of $R$. \n",
    "\n",
    "Based on the histogram (**no calculations or coding!!!**), answer to the following questions:\n",
    "- What was the most common value for the number of heads?\n",
    "- What were the smallest and largest values for the number of heads?\n",
    "- In which range does the number of heads typically vary? (e.g. try to estimate in which range is 68 % of the values in the histogram)\n",
    "\n",
    "Then use `mode()` function found from `scipy.stats` package and `mean()` and `median()` from `numpy` package to calculate the most common value, mean value and the median value of the experiment.\n",
    "- How much these values differ from each other? Can you explain the differences?\n",
    "\n",
    "Tip: See the \n",
    "<a href=\"https://en.wikipedia.org/wiki/Mode_(statistics)#Comparison_of_mean,_median_and_mode\">comparison of mean, median and mode</a>\n",
    "in Wikipedia."
   ]
  },
  {
   "cell_type": "code",
   "execution_count": 7,
   "metadata": {},
   "outputs": [
    {
     "data": {
      "image/png": "[encoded data removed]",
      "text/plain": [
       "<Figure size 432x288 with 1 Axes>"
      ]
     },
     "metadata": {
      "needs_background": "light"
     },
     "output_type": "display_data"
    }
   ],
   "source": [
    "from scipy.stats import mode\n",
    "from numpy import mean, median, std\n",
    "\n",
    "M = 10000 \n",
    "N = 100\n",
    "R = zeros(M, dtype=int)\n",
    "\n",
    "# Repeat the experiment M times\n",
    "for n in range(M):\n",
    "    count = 0\n",
    "    \n",
    "    for i in range(N):\n",
    "        face = np.random.randint(2)\n",
    "        count += face\n",
    "    \n",
    "    R[n] = count\n",
    "    None\n",
    "\n",
    "# Plot the histogram of the array R\n",
    "plt.figure()\n",
    "plot.hist(R, bins = range(np.amin(R), np.amax(R)), edgecolor='k', align='left')\n",
    "plt.title('Histogram plot of the distribution')\n",
    "plot.xlabel('Number of heads')\n",
    "plot.ylabel('Frequency')\n",
    "plot.xticks(range(25,75,5))\n",
    "plot.show()"
   ]
  },
  {
   "cell_type": "markdown",
   "metadata": {},
   "source": [
    "Without calculations or coding:<br>\n",
    "○ The most common value for the number of heads is 50. I guess it might varies from 48 to 52, depending on the random array. I did run a few more tests. But most of the time it is 50.<br>\n",
    "○ The smallest number of heads is ~32 (mostly from 30 to 34) and largest is ~68 (mostly from 66 to 70). I also did a few more tests.<br>\n",
    "○ In the range from 45 to 55 does the number of heads typically vary."
   ]
  },
  {
   "cell_type": "code",
   "execution_count": 8,
   "metadata": {},
   "outputs": [
    {
     "name": "stdout",
     "output_type": "stream",
     "text": [
      "ModeResult(mode=array([50]), count=array([798]))\n",
      "Calculated mean = 50.0265\n",
      "Calculated median = 50.0\n"
     ]
    }
   ],
   "source": [
    "modestats = mode(R)\n",
    "npmean = mean(R)\n",
    "npmedian = median(R)\n",
    "print(mode(R))\n",
    "print('Calculated mean =', npmean)\n",
    "print('Calculated median =', npmedian)"
   ]
  },
  {
   "cell_type": "markdown",
   "metadata": {},
   "source": [
    "○ Mode is the most appeared number in the given array.<br>\n",
    "○ Mean is average value of all numbers in the given array.<br>\n",
    "○ Median is the middle number in the value-sorted array.<br>\n",
    "In this problem, all 3 values are approximately the same."
   ]
  },
  {
   "cell_type": "code",
   "execution_count": null,
   "metadata": {},
   "outputs": [],
   "source": []
  }
 ],
 "metadata": {
  "kernelspec": {
   "display_name": "Python 3",
   "language": "python",
   "name": "python3"
  },
  "language_info": {
   "codemirror_mode": {
    "name": "ipython",
    "version": 3
   },
   "file_extension": ".py",
   "mimetype": "text/x-python",
   "name": "python",
   "nbconvert_exporter": "python",
   "pygments_lexer": "ipython3",
   "version": "3.7.3"
  }
 },
 "nbformat": 4,
 "nbformat_minor": 2
}
